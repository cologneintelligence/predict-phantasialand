{
 "cells": [
  {
   "cell_type": "markdown",
   "metadata": {},
   "source": [
    "# Try Different Test Train Split Strategies\n",
    "\n",
    "We found out in the notebook `fm_train_linear_regression_xgboost` that the performance is substantially better on the test set than on the train set. This is a very weird effect that may be caused by looking in the future. \n",
    "\n",
    "To find out if this is indeed the problem, we will run the following experiment: We limit the data to the months 7,8,9 (for which we have three recorded years each). Then we perform two test-train-splits:\n",
    "\n",
    "1. day-wise random 67:33 split\n",
    "2. using 2019 and 2020 as train set and 2021 as test set"
   ]
  },
  {
   "cell_type": "code",
   "execution_count": null,
   "metadata": {},
   "outputs": [],
   "source": [
    "%load_ext autoreload\n",
    "%autoreload 2\n",
    "\n",
    "from types import SimpleNamespace\n",
    "\n",
    "import pandas as pd\n",
    "import numpy as np\n",
    "import joblib\n",
    "from sklearn.linear_model import LinearRegression\n",
    "from sklearn import metrics\n",
    "\n",
    "from src.data.create_train_test_split import prepare_waiting_time, prepare_weather, train_test_split_date_based\n",
    "from src.features.build_features import build_preprocessing_pipeline\n",
    "from src.data.constants import DATA_PATH\n",
    "\n",
    "import utils as U"
   ]
  },
  {
   "cell_type": "code",
   "execution_count": null,
   "metadata": {},
   "outputs": [],
   "source": [
    "metrics_df = pd.DataFrame()"
   ]
  },
  {
   "cell_type": "markdown",
   "metadata": {},
   "source": [
    "## Day-wise random 67:33 split (all data)"
   ]
  },
  {
   "cell_type": "code",
   "execution_count": null,
   "metadata": {},
   "outputs": [],
   "source": [
    "DAYWISE_PATH = \"../../experiments/test_train_splits/daywise_random/\""
   ]
  },
  {
   "cell_type": "code",
   "execution_count": null,
   "metadata": {},
   "outputs": [],
   "source": [
    "waiting_time_df = pd.read_csv(\n",
    "    DATA_PATH / \"processed/waiting_times.csv\", index_col=\"id\", parse_dates=[\"date\"]\n",
    ")\n",
    "lommersum_df = pd.read_csv(\n",
    "    DATA_PATH / \"processed/weather_station01327_Lommersum.csv\",\n",
    "    index_col=\"date\",\n",
    "    parse_dates=[\"date\"],\n",
    ")\n",
    "koelnbonn_df = pd.read_csv(\n",
    "    DATA_PATH / \"processed/weather_station02667_Koeln-Bonn.csv\",\n",
    "    index_col=\"date\",\n",
    "    parse_dates=[\"date\"],\n",
    ")\n",
    "\n",
    "waiting_time_df = prepare_waiting_time(waiting_time_df)\n",
    "lommersum_df = prepare_weather(lommersum_df, \"lommersum_\")\n",
    "koelnbonn_df = prepare_weather(koelnbonn_df, \"koelnbonn_\")\n",
    "\n",
    "ext_datapoints_df = waiting_time_df.join(other=lommersum_df, on=\"date\").join(\n",
    "    other=koelnbonn_df, on=\"date\"\n",
    ")\n",
    "\n",
    "# Drop datapoints where the park was closed\n",
    "ext_datapoints_df.dropna(axis=\"index\", how=\"any\", subset=[\"waiting_time\"], inplace=True)\n",
    "\n",
    "#summer_datapoints_df = ext_datapoints_df.query(\"date.dt.month in [7, 8, 9]\")\n",
    "split_dfs = train_test_split_date_based(ext_datapoints_df, 0.33)\n",
    "\n",
    "print(\n",
    "    f\"{len(split_dfs['X_train'])} train samples, {len(split_dfs['X_test'])} test samples\"\n",
    ")\n",
    "print(\n",
    "    f\"proportion of test samples: {len(split_dfs['X_test'])/(len(split_dfs['X_test'])+len(split_dfs['X_train'])):.2%}\"\n",
    ")\n"
   ]
  },
  {
   "cell_type": "code",
   "execution_count": null,
   "metadata": {},
   "outputs": [],
   "source": [
    "#joblib.dump(split_dfs, DAYWISE_PATH + \"split_dfs.joblib\")\n",
    "split_dfs = joblib.load(DAYWISE_PATH + \"split_dfs.joblib\")"
   ]
  },
  {
   "cell_type": "code",
   "execution_count": null,
   "metadata": {},
   "outputs": [],
   "source": [
    "pipeline = build_preprocessing_pipeline()"
   ]
  },
  {
   "cell_type": "code",
   "execution_count": null,
   "metadata": {},
   "outputs": [],
   "source": [
    "split_dfs.keys()"
   ]
  },
  {
   "cell_type": "code",
   "execution_count": null,
   "metadata": {},
   "outputs": [],
   "source": [
    "X_train_p = pipeline.fit_transform(split_dfs[\"X_train\"])\n",
    "X_test_p = pipeline.transform(split_dfs[\"X_test\"])"
   ]
  },
  {
   "cell_type": "code",
   "execution_count": null,
   "metadata": {},
   "outputs": [],
   "source": [
    "#np.savez((DAYWISE_PATH + \"processed.npz\", X_train_p=X_train_p, X_test_p=X_test_p)\n",
    "processed = np.load((DAYWISE_PATH + \"processed.npz\")"
   ]
  },
  {
   "cell_type": "code",
   "execution_count": null,
   "metadata": {},
   "outputs": [],
   "source": [
    "data = SimpleNamespace()\n",
    "\n",
    "for k, v in split_dfs.items():\n",
    "    setattr(data, k, v)\n",
    "\n",
    "for k, v in processed.items():\n",
    "    setattr(data, k, v)\n",
    "processed.close()"
   ]
  },
  {
   "cell_type": "code",
   "execution_count": null,
   "metadata": {},
   "outputs": [],
   "source": [
    "U.train_save(LinearRegression(), DAYWISE_PATH + \"LinearRegression\", data)\n",
    "lin_model, lin_df = U.load_model(DAYWISE_PATH + \"LinearRegression\", data)"
   ]
  },
  {
   "cell_type": "code",
   "execution_count": null,
   "metadata": {},
   "outputs": [],
   "source": [
    "y_pred_train = lin_model.predict(data.X_train_p)"
   ]
  },
  {
   "cell_type": "code",
   "execution_count": null,
   "metadata": {},
   "outputs": [],
   "source": [
    "metrics_df[\"daywise_lin_test\"] = U.regression_metrics(lin_df.y_true, lin_df.y_pred)\n",
    "metrics_df[\"daywise_lin_train\"] = U.regression_metrics(data.y_train, y_pred_train)"
   ]
  },
  {
   "cell_type": "code",
   "execution_count": null,
   "metadata": {},
   "outputs": [],
   "source": [
    "metrics_df"
   ]
  },
  {
   "cell_type": "markdown",
   "metadata": {},
   "source": [
    "## Day-wise random 80:20 split (all data)"
   ]
  },
  {
   "cell_type": "code",
   "execution_count": null,
   "metadata": {},
   "outputs": [],
   "source": [
    "DAYWISE_PATH = \"../../experiments/test_train_splits/daywise_random_80:20/\""
   ]
  },
  {
   "cell_type": "code",
   "execution_count": null,
   "metadata": {},
   "outputs": [],
   "source": [
    "waiting_time_df = pd.read_csv(\n",
    "    DATA_PATH / \"processed/waiting_times.csv\", index_col=\"id\", parse_dates=[\"date\"]\n",
    ")\n",
    "lommersum_df = pd.read_csv(\n",
    "    DATA_PATH / \"processed/weather_station01327_Lommersum.csv\",\n",
    "    index_col=\"date\",\n",
    "    parse_dates=[\"date\"],\n",
    ")\n",
    "koelnbonn_df = pd.read_csv(\n",
    "    DATA_PATH / \"processed/weather_station02667_Koeln-Bonn.csv\",\n",
    "    index_col=\"date\",\n",
    "    parse_dates=[\"date\"],\n",
    ")\n",
    "\n",
    "waiting_time_df = prepare_waiting_time(waiting_time_df)\n",
    "lommersum_df = prepare_weather(lommersum_df, \"lommersum_\")\n",
    "koelnbonn_df = prepare_weather(koelnbonn_df, \"koelnbonn_\")\n",
    "\n",
    "ext_datapoints_df = waiting_time_df.join(other=lommersum_df, on=\"date\").join(\n",
    "    other=koelnbonn_df, on=\"date\"\n",
    ")\n",
    "\n",
    "# Drop datapoints where the park was closed\n",
    "ext_datapoints_df.dropna(axis=\"index\", how=\"any\", subset=[\"waiting_time\"], inplace=True)\n",
    "\n",
    "#summer_datapoints_df = ext_datapoints_df.query(\"date.dt.month in [7, 8, 9]\")\n",
    "split_dfs = train_test_split_date_based(ext_datapoints_df, 0.20)\n",
    "\n",
    "print(\n",
    "    f\"{len(split_dfs['X_train'])} train samples, {len(split_dfs['X_test'])} test samples\"\n",
    ")\n",
    "print(\n",
    "    f\"proportion of test samples: {len(split_dfs['X_test'])/(len(split_dfs['X_test'])+len(split_dfs['X_train'])):.2%}\"\n",
    ")\n"
   ]
  },
  {
   "cell_type": "code",
   "execution_count": null,
   "metadata": {},
   "outputs": [],
   "source": [
    "joblib.dump(split_dfs, DAYWISE_PATH + \"split_dfs.joblib\")\n",
    "#split_dfs = joblib.load(DAYWISE_PATH + \"split_dfs.joblib\")"
   ]
  },
  {
   "cell_type": "code",
   "execution_count": null,
   "metadata": {},
   "outputs": [],
   "source": [
    "pipeline = build_preprocessing_pipeline()"
   ]
  },
  {
   "cell_type": "code",
   "execution_count": null,
   "metadata": {},
   "outputs": [],
   "source": [
    "split_dfs.keys()"
   ]
  },
  {
   "cell_type": "code",
   "execution_count": null,
   "metadata": {},
   "outputs": [],
   "source": [
    "X_train_p = pipeline.fit_transform(split_dfs[\"X_train\"])\n",
    "X_test_p = pipeline.transform(split_dfs[\"X_test\"])"
   ]
  },
  {
   "cell_type": "code",
   "execution_count": null,
   "metadata": {},
   "outputs": [],
   "source": [
    "np.savez(DAYWISE_PATH + \"processed.npz\", X_train_p=X_train_p, X_test_p=X_test_p)\n",
    "processed = np.load(DAYWISE_PATH + \"processed.npz\")"
   ]
  },
  {
   "cell_type": "code",
   "execution_count": null,
   "metadata": {},
   "outputs": [],
   "source": [
    "data = SimpleNamespace()\n",
    "\n",
    "for k, v in split_dfs.items():\n",
    "    setattr(data, k, v)\n",
    "\n",
    "for k, v in processed.items():\n",
    "    setattr(data, k, v)\n",
    "processed.close()"
   ]
  },
  {
   "cell_type": "code",
   "execution_count": null,
   "metadata": {},
   "outputs": [],
   "source": [
    "U.train_save(LinearRegression(), DAYWISE_PATH + \"LinearRegression\", data)\n",
    "lin_model, lin_df = U.load_model(DAYWISE_PATH + \"LinearRegression\", data)"
   ]
  },
  {
   "cell_type": "code",
   "execution_count": null,
   "metadata": {},
   "outputs": [],
   "source": [
    "y_pred_train = lin_model.predict(data.X_train_p)"
   ]
  },
  {
   "cell_type": "code",
   "execution_count": null,
   "metadata": {},
   "outputs": [],
   "source": [
    "metrics_df[\"daywise_lin_test_80:20\"] = U.regression_metrics(lin_df.y_true, lin_df.y_pred)\n",
    "metrics_df[\"daywise_lin_train_80:20\"] = U.regression_metrics(data.y_train, y_pred_train)"
   ]
  },
  {
   "cell_type": "code",
   "execution_count": null,
   "metadata": {},
   "outputs": [],
   "source": [
    "metrics_df"
   ]
  },
  {
   "cell_type": "markdown",
   "metadata": {},
   "source": [
    "## Compare with default data"
   ]
  },
  {
   "cell_type": "code",
   "execution_count": null,
   "metadata": {},
   "outputs": [],
   "source": [
    "default_data = U.load_data()"
   ]
  },
  {
   "cell_type": "code",
   "execution_count": null,
   "metadata": {},
   "outputs": [],
   "source": [
    "X_train_curr = data.X_train.copy()\n",
    "X_train_curr.index = default_data.X_train.index\n",
    "default_data.X_train.compare(X_train_curr)"
   ]
  },
  {
   "cell_type": "code",
   "execution_count": null,
   "metadata": {},
   "outputs": [],
   "source": [
    "X_test_curr = data.X_test.copy()\n",
    "X_test_curr.index = default_data.X_test.index\n",
    "default_data.X_test.compare(X_test_curr)"
   ]
  },
  {
   "cell_type": "code",
   "execution_count": null,
   "metadata": {},
   "outputs": [],
   "source": [
    "pd.DataFrame(data.X_train_p).compare(pd.DataFrame(default_data.X_train_p))"
   ]
  },
  {
   "cell_type": "code",
   "execution_count": null,
   "metadata": {},
   "outputs": [],
   "source": [
    "DAYWISE_PATH = \"../../experiments/test_train_splits/default_data/\""
   ]
  },
  {
   "cell_type": "code",
   "execution_count": null,
   "metadata": {},
   "outputs": [],
   "source": [
    "U.train_save(LinearRegression(), DAYWISE_PATH + \"LinearRegression\", default_data)\n",
    "lin_model, lin_df = U.load_model(DAYWISE_PATH + \"LinearRegression\", default_data)"
   ]
  },
  {
   "cell_type": "code",
   "execution_count": null,
   "metadata": {},
   "outputs": [],
   "source": [
    "y_pred_train = lin_model.predict(default_data.X_train_p)"
   ]
  },
  {
   "cell_type": "code",
   "execution_count": null,
   "metadata": {},
   "outputs": [],
   "source": [
    "metrics_df[\"default_data_lin_test\"] = U.regression_metrics(lin_df.y_true, lin_df.y_pred)\n",
    "metrics_df[\"default_data_lin_train\"] = U.regression_metrics(default_data.y_train, y_pred_train)"
   ]
  },
  {
   "cell_type": "code",
   "execution_count": null,
   "metadata": {},
   "outputs": [],
   "source": [
    "metrics_df.T"
   ]
  },
  {
   "cell_type": "markdown",
   "metadata": {},
   "source": [
    "## Re-train LinReg with switched test train"
   ]
  },
  {
   "cell_type": "code",
   "execution_count": null,
   "metadata": {},
   "outputs": [],
   "source": [
    "lin_reg_switch = LinearRegression().fit(data.X_test_p, data.y_test)"
   ]
  },
  {
   "cell_type": "code",
   "execution_count": null,
   "metadata": {},
   "outputs": [],
   "source": [
    "y_test_pred = lin_reg_switch.predict(data.X_test_p)\n",
    "y_train_pred = lin_reg_switch.predict(data.X_train_p)"
   ]
  },
  {
   "cell_type": "code",
   "execution_count": null,
   "metadata": {},
   "outputs": [],
   "source": [
    "metrics_df[\"switched_lin_test\"] = U.regression_metrics(data.y_test, y_test_pred)\n",
    "metrics_df[\"switched_lin_train\"] = U.regression_metrics(data.y_train, y_train_pred)"
   ]
  },
  {
   "cell_type": "code",
   "execution_count": null,
   "metadata": {},
   "outputs": [],
   "source": [
    "metrics_df.T"
   ]
  },
  {
   "cell_type": "code",
   "execution_count": null,
   "metadata": {},
   "outputs": [],
   "source": [
    "metrics_df[\"switched_lin_train\"][\"rmse\"]"
   ]
  },
  {
   "cell_type": "code",
   "execution_count": null,
   "metadata": {},
   "outputs": [],
   "source": []
  }
 ],
 "metadata": {
  "interpreter": {
   "hash": "e8eb5555b6276951b53cb1dac65bc4059c32d03fe323d11af090506d873ab16c"
  },
  "kernelspec": {
   "display_name": "Python 3.8.10 64-bit ('.venv': venv)",
   "name": "python3"
  },
  "language_info": {
   "codemirror_mode": {
    "name": "ipython",
    "version": 3
   },
   "file_extension": ".py",
   "mimetype": "text/x-python",
   "name": "python",
   "nbconvert_exporter": "python",
   "pygments_lexer": "ipython3",
   "version": "3.8.10"
  }
 },
 "nbformat": 4,
 "nbformat_minor": 2
}
