{
 "cells": [
  {
   "cell_type": "code",
   "execution_count": null,
   "metadata": {},
   "outputs": [],
   "source": [
    "%load_ext autoreload \n",
    "%autoreload 2\n",
    "\n",
    "from tqdm import tqdm\n",
    "import pandas as pd\n",
    "import numpy as np\n",
    "import plotly.express as px\n",
    "import plotly.graph_objects as go\n",
    "import shap\n",
    "import mlflow\n",
    "\n",
    "import utils as U\n",
    "from src.features.build_features import FEATURE_MATRIX_COLUMNS"
   ]
  },
  {
   "cell_type": "code",
   "execution_count": null,
   "metadata": {},
   "outputs": [],
   "source": [
    "df = pd.read_csv(\"../../models/evaluation/LGBMRegressor_9.csv\")\n",
    "model_name = \"LGBMRegressor/9\"\n",
    "\n",
    "df[\"absolute_error\"] = np.abs(df.y_pred - df.y_true)\n",
    "melted_df = df[[\"attraction\", \"y_true\", \"y_pred\"]].melt(id_vars=[\"attraction\"])\n",
    "nonan_df = df.dropna(axis=\"index\", how=\"any\", subset=[\"y_true\", \"y_pred\"]).reset_index(drop=True)"
   ]
  },
  {
   "cell_type": "code",
   "execution_count": null,
   "metadata": {},
   "outputs": [],
   "source": [
    "%cd ../..\n",
    "mlflow.set_tracking_uri(U.MLFLOW_TRACKING_URI)\n",
    "\n",
    "model = mlflow.sklearn.load_model(\"models:/LGBMRegressor/9\")\n",
    "preprocessing = model[:-1]\n",
    "lgbm = model[-1]"
   ]
  },
  {
   "cell_type": "code",
   "execution_count": null,
   "metadata": {},
   "outputs": [],
   "source": [
    "X_test_p = preprocessing.transform(nonan_df.drop(columns=[\"y_true\", \"y_pred\", \"absolute_error\"]))\n"
   ]
  },
  {
   "cell_type": "code",
   "execution_count": null,
   "metadata": {},
   "outputs": [],
   "source": [
    "X_test_p.shape"
   ]
  },
  {
   "cell_type": "code",
   "execution_count": null,
   "metadata": {},
   "outputs": [],
   "source": [
    "explainer = shap.Explainer(lgbm)\n",
    "shap_values = explainer.shap_values(X_test_p)"
   ]
  },
  {
   "cell_type": "code",
   "execution_count": null,
   "metadata": {},
   "outputs": [],
   "source": [
    "nonan_df.shape, shap_values.shape"
   ]
  },
  {
   "cell_type": "code",
   "execution_count": null,
   "metadata": {},
   "outputs": [],
   "source": [
    "COLS_NO_WEATHER = [\"attraction\", \"date\", \"half_hour_time\", \"y_pred\", \"y_true\", \"absolute_error\"]"
   ]
  },
  {
   "cell_type": "code",
   "execution_count": null,
   "metadata": {},
   "outputs": [],
   "source": [
    "worst_predictions_df = nonan_df.sort_values(by=\"absolute_error\", ascending=False).head(20)[COLS_NO_WEATHER]"
   ]
  },
  {
   "cell_type": "code",
   "execution_count": null,
   "metadata": {},
   "outputs": [],
   "source": [
    "worst_predictions_df"
   ]
  },
  {
   "cell_type": "code",
   "execution_count": null,
   "metadata": {},
   "outputs": [],
   "source": [
    "shap.plots.force(explainer.expected_value, shap_values[25406], features=X_test_p[25406], feature_names=FEATURE_MATRIX_COLUMNS)"
   ]
  },
  {
   "cell_type": "code",
   "execution_count": null,
   "metadata": {},
   "outputs": [],
   "source": [
    "shap.force_plot(explainer.expected_value, shap_values[9155], features=X_test_p.loc[9155], feature_names=FEATURE_MATRIX_COLUMNS)"
   ]
  },
  {
   "cell_type": "code",
   "execution_count": null,
   "metadata": {},
   "outputs": [],
   "source": [
    "shap.force_plot(explainer.expected_value, shap_values[9156], features=X_test_p.loc[9156], feature_names=FEATURE_MATRIX_COLUMNS)"
   ]
  },
  {
   "cell_type": "code",
   "execution_count": null,
   "metadata": {},
   "outputs": [],
   "source": [
    "shap.force_plot(explainer.expected_value, shap_values[9158], features=X_test_p.loc[9158], feature_names=FEATURE_MATRIX_COLUMNS)"
   ]
  },
  {
   "cell_type": "code",
   "execution_count": null,
   "metadata": {},
   "outputs": [],
   "source": [
    "shap.force_plot(explainer.expected_value, shap_values[9157], features=X_test_p.loc[9157], feature_names=FEATURE_MATRIX_COLUMNS)"
   ]
  },
  {
   "cell_type": "code",
   "execution_count": null,
   "metadata": {},
   "outputs": [],
   "source": []
  }
 ],
 "metadata": {
  "interpreter": {
   "hash": "e8eb5555b6276951b53cb1dac65bc4059c32d03fe323d11af090506d873ab16c"
  },
  "kernelspec": {
   "display_name": "Python 3.8.10 64-bit ('.venv': venv)",
   "language": "python",
   "name": "python3"
  },
  "language_info": {
   "codemirror_mode": {
    "name": "ipython",
    "version": 3
   },
   "file_extension": ".py",
   "mimetype": "text/x-python",
   "name": "python",
   "nbconvert_exporter": "python",
   "pygments_lexer": "ipython3",
   "version": "3.8.10"
  }
 },
 "nbformat": 4,
 "nbformat_minor": 2
}
