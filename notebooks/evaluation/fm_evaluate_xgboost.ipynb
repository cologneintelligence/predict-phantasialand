{
 "cells": [
  {
   "cell_type": "code",
   "execution_count": null,
   "metadata": {},
   "outputs": [],
   "source": [
    "%load_ext autoreload\n",
    "%autoreload 2\n",
    "\n",
    "import pandas as pd\n",
    "import plotly.express as px\n",
    "\n",
    "import utils as U"
   ]
  },
  {
   "cell_type": "code",
   "execution_count": null,
   "metadata": {},
   "outputs": [],
   "source": [
    "! git rev-parse HEAD"
   ]
  },
  {
   "cell_type": "code",
   "execution_count": null,
   "metadata": {},
   "outputs": [],
   "source": [
    "data = U.load_data(\"../../data/processed/version_f565\")"
   ]
  },
  {
   "cell_type": "code",
   "execution_count": null,
   "metadata": {},
   "outputs": [],
   "source": [
    "lin_model, lin_test_df, lin_train_df = U.load_predict_model(\"../../models/data_f565/XGBRegressor_8cc0.joblib\", data)"
   ]
  },
  {
   "cell_type": "code",
   "execution_count": null,
   "metadata": {},
   "outputs": [],
   "source": [
    "metrics_df = pd.DataFrame()\n",
    "\n",
    "metrics_df[\"lin_test\"] = U.regression_metrics(lin_test_df.y_true, lin_test_df.y_pred)\n",
    "metrics_df[\"lin_train\"] = U.regression_metrics(lin_train_df.y_true, lin_train_df.y_pred)\n",
    "\n",
    "metrics_df.T"
   ]
  },
  {
   "cell_type": "code",
   "execution_count": null,
   "metadata": {},
   "outputs": [],
   "source": [
    "U.regression_scatter_plot(lin_test_df, \n",
    "    [\"Chiapas DIE Wasserbahn\", \"River Quest\", \"Crazy Bats\", \"Taron\", \"F.L.Y.\"], \"XGBoost (test set)\", col_wrap=3, width=1200, height=800)"
   ]
  },
  {
   "cell_type": "code",
   "execution_count": null,
   "metadata": {},
   "outputs": [],
   "source": [
    "U.regression_scatter_plot(lin_test_df, \n",
    "    [\"Bolles Flugschule\", \"Feng Ju Palace\", \"Verrücktes Hotel Tartüff\", \"Würmling Express\", \"Black Mamba\", \"Wellenflug\"], \"XGBoost (test set)\", col_wrap=3, width=1200, height=800)"
   ]
  },
  {
   "cell_type": "code",
   "execution_count": null,
   "metadata": {},
   "outputs": [],
   "source": [
    "fscore_df = U.get_xgb_fscores(lin_model)"
   ]
  },
  {
   "cell_type": "code",
   "execution_count": null,
   "metadata": {},
   "outputs": [],
   "source": [
    "px.bar(fscore_df, x=\"fscore\", y=\"feature_name\", text=\"fscore\", height=1000)"
   ]
  },
  {
   "cell_type": "code",
   "execution_count": null,
   "metadata": {},
   "outputs": [],
   "source": []
  }
 ],
 "metadata": {
  "interpreter": {
   "hash": "e8eb5555b6276951b53cb1dac65bc4059c32d03fe323d11af090506d873ab16c"
  },
  "kernelspec": {
   "display_name": "Python 3.8.10 64-bit ('.venv': venv)",
   "name": "python3"
  },
  "language_info": {
   "codemirror_mode": {
    "name": "ipython",
    "version": 3
   },
   "file_extension": ".py",
   "mimetype": "text/x-python",
   "name": "python",
   "nbconvert_exporter": "python",
   "pygments_lexer": "ipython3",
   "version": "3.8.10"
  }
 },
 "nbformat": 4,
 "nbformat_minor": 2
}
