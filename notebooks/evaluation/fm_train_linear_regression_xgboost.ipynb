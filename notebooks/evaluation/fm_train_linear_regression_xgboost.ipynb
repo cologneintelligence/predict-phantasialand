{
 "cells": [
  {
   "cell_type": "code",
   "execution_count": null,
   "metadata": {},
   "outputs": [],
   "source": [
    "%load_ext autoreload\n",
    "%autoreload 2\n",
    "\n",
    "import pandas as pd\n",
    "\n",
    "from sklearn.linear_model import LinearRegression\n",
    "import plotly.graph_objects as go\n",
    "import plotly.express as px\n",
    "import xgboost\n",
    "from sklearn import metrics\n",
    "\n",
    "from src.features.build_features import build_preprocessing_pipeline\n",
    "from src.data.constants import DATA_PATH\n",
    "import utils as U"
   ]
  },
  {
   "cell_type": "code",
   "execution_count": null,
   "metadata": {},
   "outputs": [],
   "source": [
    "data = U.load_data()\n",
    "build_features = build_preprocessing_pipeline()"
   ]
  },
  {
   "cell_type": "markdown",
   "metadata": {},
   "source": [
    "## Linear Regression"
   ]
  },
  {
   "cell_type": "code",
   "execution_count": null,
   "metadata": {},
   "outputs": [],
   "source": [
    "#train_save(LinearRegression(), \"../../models/LinearRegression\")\n",
    "linreg_model, linreg_df = U.load_model(\"../../models/LinearRegression\", data)"
   ]
  },
  {
   "cell_type": "code",
   "execution_count": null,
   "metadata": {},
   "outputs": [],
   "source": [
    "y_train_pred = linreg_model.predict(data.X_train_p)\n",
    "print(\"LinReg test set RMSE:\", metrics.mean_squared_error(linreg_df.y_true, linreg_df.y_pred, squared=False))\n",
    "print(\"LinReg train set RMSE:\", metrics.mean_squared_error(data.y_train, y_train_pred, squared=False))"
   ]
  },
  {
   "cell_type": "code",
   "execution_count": null,
   "metadata": {},
   "outputs": [],
   "source": [
    "U.train_save(LinearRegression(), \"../../models/LinearRegression_211103\", data)\n",
    "linreg_model2, linreg_df2 = U.load_model(\"../../models/LinearRegression_211103\", data)"
   ]
  },
  {
   "cell_type": "code",
   "execution_count": null,
   "metadata": {},
   "outputs": [],
   "source": [
    "y_train_pred2 = linreg_model2.predict(data.X_train_p)\n",
    "\n",
    "metrics_df = pd.DataFrame()\n",
    "metrics_df[\"lin2_test\"] = U.regression_metrics(linreg_df2.y_true, linreg_df2.y_pred)\n",
    "metrics_df[\"lin2_train\"] = U.regression_metrics(data.y_train, y_train_pred2)"
   ]
  },
  {
   "cell_type": "code",
   "execution_count": null,
   "metadata": {},
   "outputs": [],
   "source": [
    "metrics_df.T"
   ]
  },
  {
   "cell_type": "code",
   "execution_count": null,
   "metadata": {},
   "outputs": [],
   "source": [
    "scatter_plot(linreg_df, \n",
    "    [\"Chiapas DIE Wasserbahn\", \"River Quest\", \"Crazy Bats\", \"Taron\", \"F.L.Y.\"], \"Linear Regression\", col_wrap=3, width=1200, height=800)"
   ]
  },
  {
   "cell_type": "code",
   "execution_count": null,
   "metadata": {},
   "outputs": [],
   "source": [
    "scatter_plot(linreg_df, \n",
    "    [\"Bolles Flugschule\", \"Feng Ju Palace\", \"Verrücktes Hotel Tartüff\", \"Würmling Express\", \"Black Mamba\", \"Wellenflug\"], \"Linear Regression\", col_wrap=3, width=1200, height=800)"
   ]
  },
  {
   "cell_type": "markdown",
   "metadata": {},
   "source": [
    "### Daily Aggregated Diagram"
   ]
  },
  {
   "cell_type": "code",
   "execution_count": null,
   "metadata": {},
   "outputs": [],
   "source": [
    "result_agg_df = result_df.groupby(\"date\").agg(\"mean\")"
   ]
  },
  {
   "cell_type": "code",
   "execution_count": null,
   "metadata": {},
   "outputs": [],
   "source": [
    "result_agg_df.reset_index().reset_index().drop(columns=\"date\")"
   ]
  },
  {
   "cell_type": "code",
   "execution_count": null,
   "metadata": {},
   "outputs": [],
   "source": [
    "long_df = result_agg_df.reset_index().reset_index().drop(columns=\"date\").melt(id_vars=[\"index\"])"
   ]
  },
  {
   "cell_type": "code",
   "execution_count": null,
   "metadata": {},
   "outputs": [],
   "source": [
    "plot_df = result_agg_df.reset_index().reset_index().drop(columns=\"date\")"
   ]
  },
  {
   "cell_type": "code",
   "execution_count": null,
   "metadata": {},
   "outputs": [],
   "source": [
    "plot_df"
   ]
  },
  {
   "cell_type": "code",
   "execution_count": null,
   "metadata": {},
   "outputs": [],
   "source": [
    "\n",
    "\n",
    "fig = go.Figure(data=[\n",
    "    go.Bar(name='y_true', x=plot_df.index, y=plot_df.y_true),\n",
    "    go.Bar(name='y_pred', x=plot_df.index, y=plot_df.y_pred),\n",
    "])\n",
    "# Change the bar mode\n",
    "fig.update_layout(\n",
    "    barmode='group',\n",
    "    yaxis=dict(title=\"mean daily waiting time (min)\"),\n",
    "    title=\"expected vs predicted mean daily waiting time for all days in the test set\"\n",
    "    )\n",
    "fig.show()"
   ]
  },
  {
   "cell_type": "markdown",
   "metadata": {},
   "source": [
    "### RMSE"
   ]
  },
  {
   "cell_type": "markdown",
   "metadata": {},
   "source": [
    "## XGBoost"
   ]
  },
  {
   "cell_type": "code",
   "execution_count": null,
   "metadata": {},
   "outputs": [],
   "source": [
    "#train_save(xgboost.XGBRegressor(random_state=42, verbosity=2, objective=\"reg:squarederror\"), \"../../models/XGBRegressor_r42_reg:squarederror\")\n",
    "xgb_model, xgb_df = load(\"../../models/XGBRegressor_r42_reg:squarederror\")"
   ]
  },
  {
   "cell_type": "code",
   "execution_count": null,
   "metadata": {},
   "outputs": [],
   "source": [
    "y_train_pred = xgb_model.predict(data.X_train_p)"
   ]
  },
  {
   "cell_type": "code",
   "execution_count": null,
   "metadata": {},
   "outputs": [],
   "source": [
    "xgb_train_df = pd.DataFrame({\n",
    "    \"date\": data.X_train.date,\n",
    "    \"time\": data.X_train.half_hour_time,\n",
    "    \"attraction\": data.X_train.attraction,\n",
    "    \"y_true\": data.y_train.waiting_time,\n",
    "    \"y_pred\": y_train_pred.flatten()\n",
    "})"
   ]
  },
  {
   "cell_type": "markdown",
   "metadata": {},
   "source": [
    "### Scatterplots"
   ]
  },
  {
   "cell_type": "code",
   "execution_count": null,
   "metadata": {},
   "outputs": [],
   "source": [
    "scatter_plot(\n",
    "    xgb_df,\n",
    "    [\n",
    "        \"Chiapas DIE Wasserbahn\",\n",
    "        \"River Quest\",\n",
    "        \"Crazy Bats\",\n",
    "        \"Taron\",\n",
    "        \"F.L.Y.\",\n",
    "    ],\n",
    "    \"XGBoost\",\n",
    "    col_wrap=3,\n",
    "    width=1200,\n",
    "    height=800,\n",
    ")\n"
   ]
  },
  {
   "cell_type": "code",
   "execution_count": null,
   "metadata": {},
   "outputs": [],
   "source": [
    "scatter_plot(\n",
    "    xgb_train_df,\n",
    "    [\n",
    "        \"Chiapas DIE Wasserbahn\",\n",
    "        \"River Quest\",\n",
    "        \"Crazy Bats\",\n",
    "        \"Taron\",\n",
    "        \"F.L.Y.\",\n",
    "    ],\n",
    "    \"XGBoost (train set)\",\n",
    "    col_wrap=3,\n",
    "    width=1200,\n",
    "    height=800,\n",
    ")\n"
   ]
  },
  {
   "cell_type": "code",
   "execution_count": null,
   "metadata": {},
   "outputs": [],
   "source": [
    "scatter_plot(xgb_df, \n",
    "    [\"Bolles Flugschule\", \"Feng Ju Palace\", \"Verrücktes Hotel Tartüff\", \"Würmling Express\", \"Black Mamba\", \"Wellenflug\"], \"XGBoost\", col_wrap=3, width=1200, height=800)"
   ]
  },
  {
   "cell_type": "code",
   "execution_count": null,
   "metadata": {},
   "outputs": [],
   "source": [
    "scatter_plot(xgb_train_df, \n",
    "    [\"Bolles Flugschule\", \"Feng Ju Palace\", \"Verrücktes Hotel Tartüff\", \"Würmling Express\", \"Black Mamba\", \"Wellenflug\"], \"XGBoost (train set)\", col_wrap=3, width=1200, height=800)"
   ]
  },
  {
   "cell_type": "markdown",
   "metadata": {},
   "source": [
    "### Feature Importances"
   ]
  },
  {
   "cell_type": "code",
   "execution_count": null,
   "metadata": {},
   "outputs": [],
   "source": [
    "fscore_df = get_xgb_fscores(xgb_model)"
   ]
  },
  {
   "cell_type": "code",
   "execution_count": null,
   "metadata": {},
   "outputs": [],
   "source": [
    "px.bar(fscore_df, x=\"fscore\", y=\"feature_name\", text=\"fscore\", height=1000)"
   ]
  },
  {
   "cell_type": "markdown",
   "metadata": {},
   "source": [
    "### Notes:\n",
    "\n",
    "- day_of_year: May lead to memorizing datapoints, esp. because of the way the test-train-split is done"
   ]
  },
  {
   "cell_type": "markdown",
   "metadata": {},
   "source": [
    "### Metrics"
   ]
  },
  {
   "cell_type": "code",
   "execution_count": null,
   "metadata": {},
   "outputs": [],
   "source": [
    "xgb_df.head()"
   ]
  },
  {
   "cell_type": "code",
   "execution_count": null,
   "metadata": {},
   "outputs": [],
   "source": [
    "xgb_train_df.head()"
   ]
  },
  {
   "cell_type": "code",
   "execution_count": null,
   "metadata": {},
   "outputs": [],
   "source": [
    "print(\"XGBoost test set RMSE:\", metrics.mean_squared_error(xgb_df.y_true, xgb_df.y_pred, squared=False))\n",
    "print(\"XGBoost train set RMSE:\", metrics.mean_squared_error(xgb_train_df.y_true, xgb_train_df.y_pred, squared=False))"
   ]
  },
  {
   "cell_type": "code",
   "execution_count": null,
   "metadata": {},
   "outputs": [],
   "source": []
  }
 ],
 "metadata": {
  "interpreter": {
   "hash": "e8eb5555b6276951b53cb1dac65bc4059c32d03fe323d11af090506d873ab16c"
  },
  "kernelspec": {
   "display_name": "Python 3.8.10 64-bit ('.venv': venv)",
   "name": "python3"
  },
  "language_info": {
   "codemirror_mode": {
    "name": "ipython",
    "version": 3
   },
   "file_extension": ".py",
   "mimetype": "text/x-python",
   "name": "python",
   "nbconvert_exporter": "python",
   "pygments_lexer": "ipython3",
   "version": "3.8.10"
  }
 },
 "nbformat": 4,
 "nbformat_minor": 2
}
