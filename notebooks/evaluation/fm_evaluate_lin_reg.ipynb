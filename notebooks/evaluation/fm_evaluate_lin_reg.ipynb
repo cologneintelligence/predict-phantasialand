{
 "cells": [
  {
   "cell_type": "code",
   "execution_count": null,
   "metadata": {},
   "outputs": [],
   "source": [
    "%load_ext autoreload\n",
    "%autoreload 2\n",
    "\n",
    "import pandas as pd\n",
    "\n",
    "import utils as U"
   ]
  },
  {
   "cell_type": "code",
   "execution_count": null,
   "metadata": {},
   "outputs": [],
   "source": [
    "! git rev-parse HEAD"
   ]
  },
  {
   "cell_type": "code",
   "execution_count": null,
   "metadata": {},
   "outputs": [],
   "source": [
    "data = U.load_data(\"../../data/processed/version_f565\")"
   ]
  },
  {
   "cell_type": "code",
   "execution_count": null,
   "metadata": {},
   "outputs": [],
   "source": [
    "lin_model, lin_test_df, lin_train_df = U.load_predict_model(\"../../models/data_f565/LinearRegression_1e7f.joblib\", data)"
   ]
  },
  {
   "cell_type": "code",
   "execution_count": null,
   "metadata": {},
   "outputs": [],
   "source": [
    "metrics_df = pd.DataFrame()\n",
    "\n",
    "metrics_df[\"lin_test\"] = U.regression_metrics(lin_test_df.y_true, lin_test_df.y_pred)\n",
    "metrics_df[\"lin_train\"] = U.regression_metrics(lin_train_df.y_true, lin_train_df.y_pred)\n",
    "\n",
    "metrics_df.T"
   ]
  },
  {
   "cell_type": "code",
   "execution_count": null,
   "metadata": {},
   "outputs": [],
   "source": [
    "U.regression_scatter_plot(lin_test_df, \n",
    "    [\"Chiapas DIE Wasserbahn\", \"River Quest\", \"Crazy Bats\", \"Taron\", \"F.L.Y.\"], \"Linear Regression (test set)\", col_wrap=3, width=1200, height=800)"
   ]
  },
  {
   "cell_type": "code",
   "execution_count": null,
   "metadata": {},
   "outputs": [],
   "source": [
    "U.regression_scatter_plot(lin_test_df, \n",
    "    [\"Bolles Flugschule\", \"Feng Ju Palace\", \"Verrücktes Hotel Tartüff\", \"Würmling Express\", \"Black Mamba\", \"Wellenflug\"], \"Linear Regression (test set)\", col_wrap=3, width=1200, height=800)"
   ]
  },
  {
   "cell_type": "markdown",
   "metadata": {},
   "source": [
    "U.regression_scatter_plot(lin_train_df, \n",
    "    [\"Chiapas DIE Wasserbahn\", \"River Quest\", \"Crazy Bats\", \"Taron\", \"F.L.Y.\"], \"Linear Regression (train set)\", col_wrap=3, width=1200, height=800)"
   ]
  },
  {
   "cell_type": "code",
   "execution_count": null,
   "metadata": {},
   "outputs": [],
   "source": [
    "U.regression_scatter_plot(lin_train_df, \n",
    "    [\"Bolles Flugschule\", \"Feng Ju Palace\", \"Verrücktes Hotel Tartüff\", \"Würmling Express\", \"Black Mamba\", \"Wellenflug\"], \"Linear Regression (test set)\", col_wrap=3, width=1200, height=800)"
   ]
  }
 ],
 "metadata": {
  "interpreter": {
   "hash": "e8eb5555b6276951b53cb1dac65bc4059c32d03fe323d11af090506d873ab16c"
  },
  "kernelspec": {
   "display_name": "Python 3.8.10 64-bit ('.venv': venv)",
   "name": "python3"
  },
  "language_info": {
   "codemirror_mode": {
    "name": "ipython",
    "version": 3
   },
   "file_extension": ".py",
   "mimetype": "text/x-python",
   "name": "python",
   "nbconvert_exporter": "python",
   "pygments_lexer": "ipython3",
   "version": "3.8.10"
  }
 },
 "nbformat": 4,
 "nbformat_minor": 2
}
