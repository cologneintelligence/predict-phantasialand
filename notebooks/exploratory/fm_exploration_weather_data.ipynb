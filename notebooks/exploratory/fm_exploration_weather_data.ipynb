{
 "cells": [
  {
   "cell_type": "markdown",
   "metadata": {},
   "source": [
    "# Explore Weather Data\n",
    "\n",
    "This notebook is used to explore the DWD weather data, both with and without \n",
    "accompanying waiting time information. Its main purpose is to find out which weather\n",
    "attributes are redundant or not descriptive."
   ]
  },
  {
   "cell_type": "code",
   "execution_count": null,
   "metadata": {},
   "outputs": [],
   "source": [
    "import pandas as pd\n",
    "import seaborn as sns\n",
    "import numpy as np\n",
    "from matplotlib import pyplot as plt\n",
    "import plotly.express as px"
   ]
  },
  {
   "cell_type": "markdown",
   "metadata": {},
   "source": [
    "## First overview over weather data and selecting relevant attributes"
   ]
  },
  {
   "cell_type": "code",
   "execution_count": null,
   "metadata": {},
   "outputs": [],
   "source": [
    "koelnbonn_df = pd.read_csv(\"../../data/processed/weather_station02667_Koeln-Bonn.csv\", index_col=\"date\")\n",
    "lommersum_df = pd.read_csv(\"../../data/processed/weather_station01327_Lommersum.csv\")"
   ]
  },
  {
   "cell_type": "code",
   "execution_count": null,
   "metadata": {},
   "outputs": [],
   "source": [
    "koelnbonn_df.head()\n"
   ]
  },
  {
   "cell_type": "code",
   "execution_count": null,
   "metadata": {},
   "outputs": [],
   "source": [
    "sns.pairplot(koelnbonn_df)"
   ]
  },
  {
   "cell_type": "code",
   "execution_count": null,
   "metadata": {},
   "outputs": [],
   "source": [
    "short_df = koelnbonn_df.copy()\n",
    "short_df.drop(columns=[\"quality_wind\", \"quality_other\", \"snow_depth\", \"min_temperature_5cm\", \"max_temperature_2m\", \"min_temperature_2m\"], inplace=True)"
   ]
  },
  {
   "cell_type": "code",
   "execution_count": null,
   "metadata": {},
   "outputs": [],
   "source": [
    "sns.pairplot(short_df)"
   ]
  },
  {
   "cell_type": "code",
   "execution_count": null,
   "metadata": {},
   "outputs": [],
   "source": [
    "short_df[short_df.precipitation_height > 30]"
   ]
  },
  {
   "cell_type": "markdown",
   "metadata": {},
   "source": [
    "=> drop precipitation outlier 2021-07-14 (Flutkatastrophe)"
   ]
  },
  {
   "cell_type": "code",
   "execution_count": null,
   "metadata": {},
   "outputs": [],
   "source": [
    "short_df.drop(index=[\"2021-07-14\"], inplace=True)"
   ]
  },
  {
   "cell_type": "code",
   "execution_count": null,
   "metadata": {},
   "outputs": [],
   "source": [
    "pst_df = short_df[[\"precipitation_height\", \"sunshine_duration\", \"mean_temperature\"]].copy()"
   ]
  },
  {
   "cell_type": "code",
   "execution_count": null,
   "metadata": {},
   "outputs": [],
   "source": [
    "sns.pairplot(pst_df)"
   ]
  },
  {
   "cell_type": "markdown",
   "metadata": {},
   "source": [
    "## Load and process waiting time data"
   ]
  },
  {
   "cell_type": "code",
   "execution_count": null,
   "metadata": {},
   "outputs": [],
   "source": [
    "waiting_times_df = pd.read_csv(\"../../data/processed/waiting_times.csv\", index_col=\"id\")"
   ]
  },
  {
   "cell_type": "code",
   "execution_count": null,
   "metadata": {},
   "outputs": [],
   "source": [
    "mean_waiting_times_df = waiting_times_df[waiting_times_df.waiting_time >= 0].groupby(\"date\").aggregate(\"mean\")\n",
    "mean_waiting_times_df.drop(index=[\"2021-07-14\"], inplace=True)"
   ]
  },
  {
   "cell_type": "code",
   "execution_count": null,
   "metadata": {},
   "outputs": [],
   "source": [
    "sns.histplot(mean_waiting_times_df, kde=True)"
   ]
  },
  {
   "cell_type": "markdown",
   "metadata": {},
   "source": [
    "## Plot weather data enriched with waiting time data"
   ]
  },
  {
   "cell_type": "code",
   "execution_count": null,
   "metadata": {},
   "outputs": [],
   "source": [
    "pst_df[\"mean_waiting_time\"] = mean_waiting_times_df.waiting_time\n",
    "pst_df.dropna(axis=\"index\", inplace=True)\n",
    "pst_df[\"bin_waiting_time\"] = pst_df.mean_waiting_time.apply(lambda x: \"<15m\" if x < 15 else \">=15m\")"
   ]
  },
  {
   "cell_type": "code",
   "execution_count": null,
   "metadata": {},
   "outputs": [],
   "source": [
    "sns.pairplot(pst_df, hue=\"mean_waiting_time\")"
   ]
  },
  {
   "cell_type": "code",
   "execution_count": null,
   "metadata": {},
   "outputs": [],
   "source": [
    "sns.pairplot(pst_df.drop(columns=[\"mean_waiting_time\"]), hue=\"bin_waiting_time\", plot_kws={\"alpha\": 0.5})"
   ]
  },
  {
   "cell_type": "code",
   "execution_count": null,
   "metadata": {},
   "outputs": [],
   "source": [
    "fig, axs = plt.subplots(ncols=3, sharey=True, figsize=(20, 7))\n",
    "sns.scatterplot(data=pst_df, x=\"precipitation_height\", y=\"mean_waiting_time\", ax=axs[0])\n",
    "sns.scatterplot(data=pst_df, x=\"sunshine_duration\", y=\"mean_waiting_time\", ax=axs[1])\n",
    "sns.scatterplot(data=pst_df, x=\"mean_temperature\", y=\"mean_waiting_time\", ax=axs[2])"
   ]
  },
  {
   "cell_type": "code",
   "execution_count": null,
   "metadata": {},
   "outputs": [],
   "source": [
    "short_df[\"bin_waiting_time\"] = mean_waiting_times_df.waiting_time.apply(lambda x: np.nan if np.isnan(x) else (\"<15m\" if x < 15 else \">=15m\"))\n",
    "short_df.dropna(axis=\"index\", inplace=True)"
   ]
  },
  {
   "cell_type": "code",
   "execution_count": null,
   "metadata": {},
   "outputs": [],
   "source": [
    "sns.pairplot(short_df, hue=\"bin_waiting_time\", plot_kws={\"alpha\": 0.5})"
   ]
  },
  {
   "cell_type": "markdown",
   "metadata": {},
   "source": [
    "## Pairwise correlation of weather attributes"
   ]
  },
  {
   "cell_type": "code",
   "execution_count": null,
   "metadata": {},
   "outputs": [],
   "source": [
    "weather_pairwise_corr_df = lommersum_df.drop(columns=[\"quality_wind\", \"quality_other\", \"precipitation_form\"]).dropna(axis=\"columns\", how=\"all\").corr()\n",
    "px.imshow(\n",
    "    weather_pairwise_corr_df,\n",
    "    width=800,\n",
    "    height=800,\n",
    "    title=\"pairwise Pearson correlation between weather attributes (Lommersum station)\",\n",
    "    color_continuous_scale=px.colors.sequential.thermal,\n",
    "    color_continuous_midpoint=0.0,\n",
    ").show()\n"
   ]
  },
  {
   "cell_type": "code",
   "execution_count": null,
   "metadata": {},
   "outputs": [],
   "source": [
    "weather_pairwise_corr_df = koelnbonn_df.drop(columns=[\"quality_wind\", \"quality_other\", \"precipitation_form\"]).dropna(axis=\"columns\", how=\"all\").corr()\n",
    "px.imshow(\n",
    "    weather_pairwise_corr_df,\n",
    "    width=800,\n",
    "    height=800,\n",
    "    title=\"pairwise Pearson correlation between weather attributes (Köln/Bonn station)\",\n",
    "    color_continuous_scale=px.colors.sequential.thermal,\n",
    "    color_continuous_midpoint=0.0,\n",
    ").show()\n"
   ]
  },
  {
   "cell_type": "code",
   "execution_count": null,
   "metadata": {},
   "outputs": [],
   "source": []
  }
 ],
 "metadata": {
  "interpreter": {
   "hash": "e8eb5555b6276951b53cb1dac65bc4059c32d03fe323d11af090506d873ab16c"
  },
  "kernelspec": {
   "display_name": "Python 3.8.10 64-bit ('.venv': venv)",
   "name": "python3"
  },
  "language_info": {
   "codemirror_mode": {
    "name": "ipython",
    "version": 3
   },
   "file_extension": ".py",
   "mimetype": "text/x-python",
   "name": "python",
   "nbconvert_exporter": "python",
   "pygments_lexer": "ipython3",
   "version": "3.8.10"
  }
 },
 "nbformat": 4,
 "nbformat_minor": 2
}
