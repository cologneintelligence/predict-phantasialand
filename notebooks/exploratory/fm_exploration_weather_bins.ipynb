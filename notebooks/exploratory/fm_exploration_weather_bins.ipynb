{
 "cells": [
  {
   "cell_type": "code",
   "execution_count": null,
   "metadata": {},
   "outputs": [],
   "source": [
    "from datetime import date\n",
    "\n",
    "import pandas as pd\n",
    "import numpy as np\n",
    "import plotly.express as px"
   ]
  },
  {
   "cell_type": "code",
   "execution_count": null,
   "metadata": {},
   "outputs": [],
   "source": [
    "lommersum_df = pd.read_csv(\"../../data/interim/weather_station01327_Lommersum.csv\", index_col=\"date\", parse_dates=[\"date\"])\n",
    "koelnbonn_df = pd.read_csv(\"../../data/interim/weather_station02667_Koeln-Bonn.csv\", index_col=\"date\", parse_dates=[\"date\"])\n",
    "\n",
    "lommersum_df.drop(index=[date(2021, 7, 14)], inplace=True)\n",
    "koelnbonn_df.drop(index=[date(2021, 7, 14)], inplace=True)"
   ]
  },
  {
   "cell_type": "code",
   "execution_count": null,
   "metadata": {},
   "outputs": [],
   "source": [
    "px.histogram(lommersum_df, x=\"precipitation_height\", marginal=\"box\")"
   ]
  },
  {
   "cell_type": "markdown",
   "metadata": {},
   "source": [
    "`precipitation_height`:\n",
    "- DRY: < 0.2\n",
    "- SLIGHT: < 1.5\n",
    "- HEAVY: > 1.5"
   ]
  },
  {
   "cell_type": "code",
   "execution_count": null,
   "metadata": {},
   "outputs": [],
   "source": [
    "px.histogram(lommersum_df, x=\"sunshine_duration\", marginal=\"box\")"
   ]
  },
  {
   "cell_type": "markdown",
   "metadata": {},
   "source": [
    "`sunshine_duration`:\n",
    "- OVERCAST: < 1.5\n",
    "- SUNNY: > 6\n",
    "\n",
    "TODO: Time in year dependent"
   ]
  },
  {
   "cell_type": "code",
   "execution_count": null,
   "metadata": {},
   "outputs": [],
   "source": [
    "koelnbonn_df"
   ]
  },
  {
   "cell_type": "code",
   "execution_count": null,
   "metadata": {},
   "outputs": [],
   "source": []
  }
 ],
 "metadata": {
  "interpreter": {
   "hash": "e8eb5555b6276951b53cb1dac65bc4059c32d03fe323d11af090506d873ab16c"
  },
  "kernelspec": {
   "display_name": "Python 3.8.10 64-bit ('.venv': venv)",
   "language": "python",
   "name": "python3"
  },
  "language_info": {
   "codemirror_mode": {
    "name": "ipython",
    "version": 3
   },
   "file_extension": ".py",
   "mimetype": "text/x-python",
   "name": "python",
   "nbconvert_exporter": "python",
   "pygments_lexer": "ipython3",
   "version": "3.8.10"
  }
 },
 "nbformat": 4,
 "nbformat_minor": 2
}
