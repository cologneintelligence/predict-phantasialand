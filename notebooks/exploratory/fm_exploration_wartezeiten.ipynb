{
 "cells": [
  {
   "cell_type": "markdown",
   "metadata": {},
   "source": [
    "# Exploration of Raw Waiting Time Data\n",
    "\n",
    "This notebook is used to explore the raw waiting time data to determine what processing \n",
    "should take place. It does not incorporate information from other sources like weather\n",
    "or holidays"
   ]
  },
  {
   "cell_type": "code",
   "execution_count": null,
   "metadata": {},
   "outputs": [],
   "source": [
    "import pandas as pd\n",
    "import seaborn as sns\n",
    "import numpy as np\n",
    "from matplotlib import pyplot as plt\n",
    "import calendar\n",
    "\n",
    "sns.set(rc={'figure.figsize':(16,9)})"
   ]
  },
  {
   "cell_type": "code",
   "execution_count": null,
   "metadata": {},
   "outputs": [],
   "source": [
    "DATA_PATH = \"wartezeiten_app211005.csv\"\n",
    "df = pd.read_csv(DATA_PATH, index_col=\"Unnamed: 0\")\n",
    "\n",
    "df[\"date\"] = df.datum.str.slice(0, len(\"2020-01-01\"))\n",
    "df[\"time\"] = df.datum.str.slice(len(\"2020-01-01 \"))\n",
    "df[\"time_min\"] = df.time.str.slice(0, len(\"00:00\"))\n",
    "df.rename(columns={\"attracion\": \"attraction\"}, inplace=True)\n",
    "\n",
    "MONTH_NAMES = list(calendar.month_name)\n",
    "df[\"month_num\"] = df.month.apply(lambda x: MONTH_NAMES.index(x))"
   ]
  },
  {
   "cell_type": "code",
   "execution_count": null,
   "metadata": {},
   "outputs": [],
   "source": [
    "df.head()"
   ]
  },
  {
   "cell_type": "code",
   "execution_count": null,
   "metadata": {},
   "outputs": [],
   "source": [
    "print(len(df.attraction.unique()), \"unique attractions\")\n",
    "print(\"unique months: \", df.month.unique())\n",
    "print(len(df), \"datapoints, of which\")\n",
    "print(\"  \", df.status.value_counts()[\"opened\"], \"opened\")\n",
    "print(\"  \", df.status.value_counts()[\"closed\"], \"closed\")\n",
    "print(len(df.date.unique()), \"unique dates\")"
   ]
  },
  {
   "cell_type": "markdown",
   "metadata": {},
   "source": [
    "## Visualize Missing Dates\n",
    "\n",
    "Collect all dates for which at least one datapoint exists and group them by month and year. We can use this to visualize on which days the park was completely closed, e.g. due to Covid 19. "
   ]
  },
  {
   "cell_type": "code",
   "execution_count": null,
   "metadata": {},
   "outputs": [],
   "source": [
    "df_days = df[[\"month_num\", \"year\", \"date\"]]\n",
    "df_days = df_days.drop_duplicates()\n",
    "df_days_agg = df_days.groupby(by=[\"year\",\"month_num\"]).aggregate(\"count\")\n",
    "\n",
    "for year in [2019, 2020, 2021]:\n",
    "    for month in range(1, 13):\n",
    "        try:\n",
    "            df_days_agg.loc[(year, month), :]\n",
    "        except KeyError:\n",
    "            df_days_agg.loc[(year, month), :] = 0"
   ]
  },
  {
   "cell_type": "code",
   "execution_count": null,
   "metadata": {},
   "outputs": [],
   "source": [
    "df_days_agg.sort_index().plot(kind=\"bar\", figsize=(14, 6), ylabel=\"number of days\", title=\"number of days per month for which at least one datapoint exists\");"
   ]
  },
  {
   "cell_type": "markdown",
   "metadata": {},
   "source": [
    "**suspicious months**\n",
    "- 2019-11:\n",
    "- 2020-06:"
   ]
  },
  {
   "cell_type": "code",
   "execution_count": null,
   "metadata": {},
   "outputs": [],
   "source": [
    "df[[\"year\", \"month\"]].drop_duplicates().groupby(by=\"month\").agg(\"count\").sort_values(by=\"year\", ascending=False)"
   ]
  },
  {
   "cell_type": "markdown",
   "metadata": {},
   "source": [
    "## Distribution of Datapoints per Day"
   ]
  },
  {
   "cell_type": "code",
   "execution_count": null,
   "metadata": {},
   "outputs": [],
   "source": [
    "per_day_agg = df.groupby(by=[\"attraction\", \"date\"]).agg(\"count\")[[\"time\"]]"
   ]
  },
  {
   "cell_type": "code",
   "execution_count": null,
   "metadata": {},
   "outputs": [],
   "source": [
    "per_day_agg.head()"
   ]
  },
  {
   "cell_type": "code",
   "execution_count": null,
   "metadata": {},
   "outputs": [],
   "source": [
    "df.head()"
   ]
  },
  {
   "cell_type": "code",
   "execution_count": null,
   "metadata": {},
   "outputs": [],
   "source": [
    "# Show lines that are problematic because the timestamp is out of order\n",
    "per_time_agg = df.groupby(by=\"time_min\").agg(\"count\")\n",
    "per_time_agg[~(per_time_agg.index.str.endswith(\"0\") | per_time_agg.index.str.endswith(\"5\"))]"
   ]
  },
  {
   "cell_type": "code",
   "execution_count": null,
   "metadata": {},
   "outputs": [],
   "source": [
    "FIX_TIMESTAMPS = {\n",
    "    \"09:11\": \"09:10\", \n",
    "    \"09:16\": \"09:15\",\n",
    "    \"10:36\": \"10:35\",\n",
    "    \"15:36\": \"15:35\",\n",
    "    \"16:51\": \"16:50\",\n",
    "    \"18:47\": \"18:45\",\n",
    "}\n",
    "df_rounded_timestamps = df.replace(FIX_TIMESTAMPS)"
   ]
  },
  {
   "cell_type": "code",
   "execution_count": null,
   "metadata": {},
   "outputs": [],
   "source": [
    "# Show lines that are problematic because the timestamp is out of order -> should be None after fixing\n",
    "per_time_agg_rounded = df_rounded_timestamps.groupby(by=\"time_min\").agg(\"count\")\n",
    "per_time_agg_rounded[~(per_time_agg_rounded.index.str.endswith(\"0\") | per_time_agg_rounded.index.str.endswith(\"5\"))]"
   ]
  },
  {
   "cell_type": "code",
   "execution_count": null,
   "metadata": {},
   "outputs": [],
   "source": [
    "per_time_status_agg_rounded = df_rounded_timestamps.groupby(by=[\"time_min\", \"status\"]).agg(\"count\").reset_index()"
   ]
  },
  {
   "cell_type": "code",
   "execution_count": null,
   "metadata": {},
   "outputs": [],
   "source": [
    "sns.barplot?"
   ]
  },
  {
   "cell_type": "code",
   "execution_count": null,
   "metadata": {},
   "outputs": [],
   "source": [
    "sns.barplot(data=per_time_status_agg_rounded[per_time_status_agg_rounded.status == \"opened\"], x=\"time_min\", y=\"wartezeit\", color=\"green\")\n",
    "sns.barplot(data=per_time_status_agg_rounded[per_time_status_agg_rounded.status == \"closed\"], x=\"time_min\", y=\"wartezeit\", color=\"red\")"
   ]
  },
  {
   "cell_type": "code",
   "execution_count": null,
   "metadata": {},
   "outputs": [],
   "source": [
    "per_time_status_agg_rounded.status.unique()"
   ]
  },
  {
   "cell_type": "code",
   "execution_count": null,
   "metadata": {},
   "outputs": [],
   "source": [
    "# timestamps range from 8:45 to 0:10 inclusive\n",
    "print(\"expected number of different timestamps: \", (24-9)*(60/5) + 3 + 3)\n",
    "print(\"actual number of different timestamps after rounding \", len(per_time_agg_rounded))"
   ]
  },
  {
   "cell_type": "code",
   "execution_count": null,
   "metadata": {},
   "outputs": [],
   "source": [
    "per_time_agg_rounded.attraction.plot(xlabel=\"time rounded to nearest 5min\", ylabel=\"number of attraction-day-combinations\", \n",
    "    title=\"distribution of datapoints (regardless of open/closed) by time\")"
   ]
  },
  {
   "cell_type": "code",
   "execution_count": null,
   "metadata": {},
   "outputs": [],
   "source": [
    "df_agg_time_attraction = df_rounded_timestamps.groupby(by=[\"time_min\", \"attraction\"]).agg(\"count\").reset_index()\n",
    "sns.lineplot(data=df_agg_time_attraction, x=\"time_min\", y=\"wartezeit\", hue=\"attraction\")"
   ]
  },
  {
   "cell_type": "code",
   "execution_count": null,
   "metadata": {},
   "outputs": [],
   "source": []
  },
  {
   "cell_type": "markdown",
   "metadata": {},
   "source": [
    "# Quality by Months\n",
    "\n",
    "- 19 months total, however February, March, April are missing completely\n",
    "- months present in three years: July, August, September, October\n",
    "- "
   ]
  }
 ],
 "metadata": {
  "interpreter": {
   "hash": "cf130c6cd24ea60fc80c8fde62a7887b664de31af00255c713d35afcdaf9bfea"
  },
  "kernelspec": {
   "display_name": "Python 3.8.10 64-bit ('.venv': venv)",
   "name": "python3"
  },
  "language_info": {
   "codemirror_mode": {
    "name": "ipython",
    "version": 3
   },
   "file_extension": ".py",
   "mimetype": "text/x-python",
   "name": "python",
   "nbconvert_exporter": "python",
   "pygments_lexer": "ipython3",
   "version": "3.8.10"
  }
 },
 "nbformat": 4,
 "nbformat_minor": 2
}
