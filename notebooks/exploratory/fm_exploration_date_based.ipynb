{
 "cells": [
  {
   "cell_type": "markdown",
   "metadata": {},
   "source": [
    "# Date and Attraction Based Exploration of Waiting Times\n",
    "\n",
    "The purpose of this notebook is to analyse how the waiting time depends on the time \n",
    "(e.g. current month) as well as the specific attraction. It also checks how many \n",
    "attractions are opened during which time of the year. The main finding is that it is not\n",
    "possible to analyse all attraction together as they have vastly different waiting time\n",
    "profiles."
   ]
  },
  {
   "cell_type": "code",
   "execution_count": null,
   "metadata": {},
   "outputs": [],
   "source": [
    "import numpy as np\n",
    "import pandas as pd\n",
    "import seaborn as sns\n",
    "from matplotlib import pyplot as plt\n",
    "import calplot\n",
    "import plotly.graph_objects as go\n",
    "import plotly.express as px"
   ]
  },
  {
   "cell_type": "code",
   "execution_count": null,
   "metadata": {},
   "outputs": [],
   "source": [
    "waiting_times_df = pd.read_csv(\"../../data/processed/waiting_times.csv\", index_col=\"id\", parse_dates=[\"date\"])"
   ]
  },
  {
   "cell_type": "code",
   "execution_count": null,
   "metadata": {},
   "outputs": [],
   "source": [
    "print(\"datapoints with nonnegative waiting time:\", len(waiting_times_df[waiting_times_df.waiting_time >= 0]))"
   ]
  },
  {
   "cell_type": "markdown",
   "metadata": {},
   "source": [
    "## Analyse mean waiting time grouped by date across all attractions"
   ]
  },
  {
   "cell_type": "code",
   "execution_count": null,
   "metadata": {},
   "outputs": [],
   "source": [
    "mean_waiting_times_df = waiting_times_df[waiting_times_df.waiting_time >= 0].groupby(\n",
    "    \"date\").aggregate(\"mean\")"
   ]
  },
  {
   "cell_type": "code",
   "execution_count": null,
   "metadata": {},
   "outputs": [],
   "source": [
    "sns.histplot(mean_waiting_times_df, kde=True)\n",
    "plt.title(\"histogram of mean daily waiting time across all attractions\");"
   ]
  },
  {
   "cell_type": "code",
   "execution_count": null,
   "metadata": {},
   "outputs": [],
   "source": [
    "mean_waiting_times_df.reset_index(inplace=True)\n",
    "mean_waiting_times_df[\"weekday\"] = mean_waiting_times_df.date.dt.dayofweek\n",
    "mean_waiting_times_df[\"weekend\"] = mean_waiting_times_df.weekday.apply(lambda x: x >= 5)\n",
    "mean_waiting_times_df[\"month\"] = mean_waiting_times_df.date.dt.month\n",
    "mean_waiting_times_df.set_index(\"date\", inplace=True)"
   ]
  },
  {
   "cell_type": "code",
   "execution_count": null,
   "metadata": {},
   "outputs": [],
   "source": [
    "sns.histplot(data=mean_waiting_times_df, x=\"waiting_time\", hue=\"weekend\", kde=True)\n",
    "plt.title(\"histogram of mean daily waiting time across all attractions, separated by weekend or not\");"
   ]
  },
  {
   "cell_type": "code",
   "execution_count": null,
   "metadata": {},
   "outputs": [],
   "source": [
    "sns.histplot(data=mean_waiting_times_df, x=\"waiting_time\", hue=\"weekend\", kde=True, stat=\"percent\", common_norm=False)\n",
    "plt.title(\"histogram of mean daily waiting time across all attractions, separated by weekend or not\");"
   ]
  },
  {
   "cell_type": "code",
   "execution_count": null,
   "metadata": {},
   "outputs": [],
   "source": [
    "mean_waiting_times_df.groupby(\"month\").agg(\"mean\").waiting_time.plot(kind=\"bar\", ylabel=\"mean waiting time (min)\");"
   ]
  },
  {
   "cell_type": "markdown",
   "metadata": {},
   "source": [
    "## Analyse mean waiting time grouped by date and attraction"
   ]
  },
  {
   "cell_type": "code",
   "execution_count": null,
   "metadata": {},
   "outputs": [],
   "source": [
    "mean_date_attraction_df = waiting_times_df[waiting_times_df.waiting_time >= 0].groupby(\n",
    "    [\"date\", \"attraction\"]).aggregate(\"mean\")\n",
    "mean_date_attraction_df.reset_index(inplace=True)\n",
    "mean_date_attraction_df[\"month\"] = mean_date_attraction_df.date.dt.month"
   ]
  },
  {
   "cell_type": "code",
   "execution_count": null,
   "metadata": {},
   "outputs": [],
   "source": [
    "mean_date_attraction_df.head()"
   ]
  },
  {
   "cell_type": "code",
   "execution_count": null,
   "metadata": {},
   "outputs": [],
   "source": [
    "mean_date_attraction_df.date.describe(datetime_is_numeric=True)"
   ]
  },
  {
   "cell_type": "code",
   "execution_count": null,
   "metadata": {},
   "outputs": [],
   "source": [
    "px.box(mean_date_attraction_df, x=\"month\", y=\"waiting_time\", title=\"each data point is the mean waiting time of one attraction on one day, grouped by month<br>timespan: 2019/07-2021/10\", width=1000, height=600).show()"
   ]
  },
  {
   "cell_type": "code",
   "execution_count": null,
   "metadata": {},
   "outputs": [],
   "source": [
    "px.box(mean_date_attraction_df, x=\"attraction\", y=\"waiting_time\", title=\"each data point is the mean waiting time of one attraction on one day, grouped by attraction<br>timespan: 2019/07-2021/10\", width=1200, height=600).show()"
   ]
  },
  {
   "cell_type": "code",
   "execution_count": null,
   "metadata": {},
   "outputs": [],
   "source": [
    "heatmap_df = (\n",
    "    mean_date_attraction_df[[\"month\", \"waiting_time\", \"attraction\"]]\n",
    "    .groupby([\"month\", \"attraction\"])\n",
    "    .agg(\"mean\")\n",
    "    .reset_index()\n",
    "    .pivot(index=\"month\", columns=\"attraction\")\n",
    "    .droplevel(0, axis=\"columns\")\n",
    ")\n",
    "\n",
    "for i in range(2, 5):\n",
    "    heatmap_df.loc[i] = np.nan\n",
    "\n",
    "heatmap_df.sort_index(inplace=True)\n",
    "heatmap_df.index = heatmap_df.index.map(str)"
   ]
  },
  {
   "cell_type": "code",
   "execution_count": null,
   "metadata": {},
   "outputs": [],
   "source": [
    "heatmap_df"
   ]
  },
  {
   "cell_type": "code",
   "execution_count": null,
   "metadata": {},
   "outputs": [],
   "source": [
    "px.imshow(\n",
    "    heatmap_df,\n",
    "    width=1200,\n",
    "    height=600,\n",
    "    title=\"mean waiting time per month and attraction (timespan: 2019/07-2021/10)\",\n",
    ").show()\n"
   ]
  },
  {
   "cell_type": "markdown",
   "metadata": {},
   "source": [
    "## Comparison of opening hours of different attractions over the year"
   ]
  },
  {
   "cell_type": "code",
   "execution_count": null,
   "metadata": {},
   "outputs": [],
   "source": [
    "# We aggregate by max instead of mean here because the primary goal is to see if an \n",
    "# attraction is open on that day or not\n",
    "date_attraction_df = waiting_times_df[[\"date\", \"attraction\", \"waiting_time\"]].groupby(\n",
    "    by=[\"attraction\", \"date\"]).agg(\"max\")\n",
    "date_attraction_df.reset_index(inplace=True)\n",
    "\n",
    "open_date_attraction_df = date_attraction_df[date_attraction_df.waiting_time >=0]\n",
    "\n",
    "# This dataframe contains the number of opened attractions per date\n",
    "date2open_count_df = open_date_attraction_df[[\"date\", \"attraction\"]].groupby(\"date\").agg(\"count\")"
   ]
  },
  {
   "cell_type": "code",
   "execution_count": null,
   "metadata": {},
   "outputs": [],
   "source": [
    "date2open_count_df.plot(kind=\"hist\")\n",
    "plt.title(\"histogram of the number of attractions opened on a given date\")"
   ]
  },
  {
   "cell_type": "code",
   "execution_count": null,
   "metadata": {},
   "outputs": [],
   "source": [
    "calplot.calplot(date2open_count_df.attraction, dropzero=True, \n",
    "    suptitle=\"number of attractions opened at this date (i.e. having any non-negative waiting time\");"
   ]
  },
  {
   "cell_type": "code",
   "execution_count": null,
   "metadata": {},
   "outputs": [],
   "source": [
    "chiapas_df = open_date_attraction_df[open_date_attraction_df.attraction == \"Chiapas DIE Wasserbahn\"]\n",
    "chiapas_df.set_index(\"date\", inplace=True)"
   ]
  },
  {
   "cell_type": "code",
   "execution_count": null,
   "metadata": {},
   "outputs": [],
   "source": [
    "calplot.calplot(chiapas_df.waiting_time, dropzero=True, \n",
    "    suptitle=\"maximum waiting time (min) per day of Chiapas DIE Wasserbahn\");"
   ]
  },
  {
   "cell_type": "code",
   "execution_count": null,
   "metadata": {},
   "outputs": [],
   "source": [
    "riverquest_df = open_date_attraction_df[open_date_attraction_df.attraction == \"River Quest\"]\n",
    "riverquest_df.set_index(\"date\", inplace=True)"
   ]
  },
  {
   "cell_type": "code",
   "execution_count": null,
   "metadata": {},
   "outputs": [],
   "source": [
    "calplot.calplot(riverquest_df.waiting_time, dropzero=True, \n",
    "    suptitle=\"maximum waiting time (min) per day of River Quest\");"
   ]
  },
  {
   "cell_type": "code",
   "execution_count": null,
   "metadata": {},
   "outputs": [],
   "source": []
  }
 ],
 "metadata": {
  "interpreter": {
   "hash": "e8eb5555b6276951b53cb1dac65bc4059c32d03fe323d11af090506d873ab16c"
  },
  "kernelspec": {
   "display_name": "Python 3.8.10 64-bit ('.venv': venv)",
   "name": "python3"
  },
  "language_info": {
   "codemirror_mode": {
    "name": "ipython",
    "version": 3
   },
   "file_extension": ".py",
   "mimetype": "text/x-python",
   "name": "python",
   "nbconvert_exporter": "python",
   "pygments_lexer": "ipython3",
   "version": "3.8.10"
  }
 },
 "nbformat": 4,
 "nbformat_minor": 2
}
